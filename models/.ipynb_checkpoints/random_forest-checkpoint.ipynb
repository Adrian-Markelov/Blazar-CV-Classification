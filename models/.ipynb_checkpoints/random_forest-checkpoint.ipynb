{
 "cells": [
  {
   "cell_type": "code",
   "execution_count": 50,
   "metadata": {
    "collapsed": true
   },
   "outputs": [],
   "source": [
    "import pandas as pd\n",
    "import numpy as np\n",
    "import matplotlib.pyplot as plt\n",
    "%matplotlib inline\n",
    "import math\n",
    "import tensorflow as tf\n",
    "import sys\n",
    "import pickle\n",
    "import random"
   ]
  },
  {
   "cell_type": "code",
   "execution_count": 51,
   "metadata": {
    "collapsed": true
   },
   "outputs": [],
   "source": [
    "def make2dList(rows, cols):\n",
    "    a=[]\n",
    "    for row in range(rows): a += [[0]*cols]\n",
    "    return a\n",
    "\n",
    "i = pickle.load(open(\"../data/Quantiles.pickle\", \"rb\"))\n",
    "\n",
    "def split_data(data, test_ratio):\n",
    "    test_size = int(len(data) * test_ratio)\n",
    "    training_data = make2dList(len(data) - test_size, data[0][\"quantile\"].shape[0] * data[0][\"quantile\"].shape[1])\n",
    "    training_labels = [0]*(len(data)-test_size)\n",
    "    testing_data = make2dList(test_size, data[0][\"quantile\"].shape[0] * data[0][\"quantile\"].shape[1])\n",
    "    testing_labels = [0]*test_size\n",
    "    \n",
    "    test = random.sample(range(0, len(data)), test_size)\n",
    "    \n",
    "    start = -1\n",
    "    for key in range(len(data)):\n",
    "        if (key in test): continue\n",
    "        start += 1\n",
    "        for j in range(data[0][\"quantile\"].shape[0]):\n",
    "            for k in range(data[0][\"quantile\"].shape[1]):\n",
    "                training_data[start][k*data[0][\"quantile\"].shape[0] + j] = data[key][\"quantile\"][j][k]\n",
    "        training_labels[start] = data[key][\"class\"]\n",
    "    \n",
    "    start = -1\n",
    "    for key in test:\n",
    "        start += 1\n",
    "        for j in range(data[0][\"quantile\"].shape[0]):\n",
    "            for k in range(data[0][\"quantile\"].shape[1]):\n",
    "                testing_data[start][k*data[0][\"quantile\"].shape[0] + j] = data[key][\"quantile\"][j][k]\n",
    "        testing_labels[start] = data[key][\"class\"]\n",
    "        \n",
    "    \n",
    "    return training_data, training_labels, testing_data, testing_labels\n",
    "    "
   ]
  },
  {
   "cell_type": "code",
   "execution_count": 52,
   "metadata": {
    "collapsed": true
   },
   "outputs": [],
   "source": [
    "training_data, training_labels, testing_data, testing_labels = split_data(i, 0.1)"
   ]
  },
  {
   "cell_type": "code",
   "execution_count": 53,
   "metadata": {
    "collapsed": true
   },
   "outputs": [],
   "source": [
    "from sklearn.ensemble import RandomForestClassifier\n",
    "from sklearn.datasets import make_classification"
   ]
  },
  {
   "cell_type": "code",
   "execution_count": 54,
   "metadata": {
    "collapsed": true
   },
   "outputs": [],
   "source": [
    "clf = RandomForestClassifier(max_depth=2, random_state=0)\n"
   ]
  },
  {
   "cell_type": "code",
   "execution_count": 55,
   "metadata": {},
   "outputs": [
    {
     "data": {
      "text/plain": [
       "RandomForestClassifier(bootstrap=True, class_weight=None, criterion='gini',\n",
       "            max_depth=2, max_features='auto', max_leaf_nodes=None,\n",
       "            min_impurity_decrease=0.0, min_impurity_split=None,\n",
       "            min_samples_leaf=1, min_samples_split=2,\n",
       "            min_weight_fraction_leaf=0.0, n_estimators=10, n_jobs=1,\n",
       "            oob_score=False, random_state=0, verbose=0, warm_start=False)"
      ]
     },
     "execution_count": 55,
     "metadata": {},
     "output_type": "execute_result"
    }
   ],
   "source": [
    "clf.fit(training_data, training_labels)\n"
   ]
  },
  {
   "cell_type": "code",
   "execution_count": null,
   "metadata": {
    "collapsed": true
   },
   "outputs": [],
   "source": []
  },
  {
   "cell_type": "code",
   "execution_count": 56,
   "metadata": {},
   "outputs": [
    {
     "name": "stdout",
     "output_type": "stream",
     "text": [
      "0.7848101265822784\n"
     ]
    }
   ],
   "source": [
    "total_correct = 0\n",
    "for key in range(len(testing_data)):\n",
    "    if (clf.predict([ testing_data[key]]) == [testing_labels[key]]):\n",
    "        total_correct += 1\n",
    "print(total_correct/len(testing_data))\n",
    "    "
   ]
  },
  {
   "cell_type": "code",
   "execution_count": null,
   "metadata": {
    "collapsed": true
   },
   "outputs": [],
   "source": []
  }
 ],
 "metadata": {
  "kernelspec": {
   "display_name": "Python 3",
   "language": "python",
   "name": "python3"
  },
  "language_info": {
   "codemirror_mode": {
    "name": "ipython",
    "version": 3
   },
   "file_extension": ".py",
   "mimetype": "text/x-python",
   "name": "python",
   "nbconvert_exporter": "python",
   "pygments_lexer": "ipython3",
   "version": "3.6.3"
  }
 },
 "nbformat": 4,
 "nbformat_minor": 2
}
