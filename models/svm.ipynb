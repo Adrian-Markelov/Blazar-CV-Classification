{
 "cells": [
  {
   "cell_type": "code",
   "execution_count": 3,
   "metadata": {
    "collapsed": true
   },
   "outputs": [],
   "source": [
    "import pandas as pd\n",
    "import numpy as np\n",
    "import matplotlib.pyplot as plt\n",
    "%matplotlib inline\n",
    "import math\n",
    "import tensorflow as tf\n",
    "import sys\n",
    "import statsmodels.api as sm\n",
    "import statsmodels.formula.api as smf\n",
    "import pickle\n",
    "from statsmodels.regression.quantile_regression import QuantReg\n",
    "import random"
   ]
  },
  {
   "cell_type": "code",
   "execution_count": 11,
   "metadata": {
    "collapsed": true
   },
   "outputs": [],
   "source": [
    "def split_data(data, test_ratio):\n",
    "    def make2dList(rows, cols):\n",
    "        a=[]\n",
    "        for row in range(rows): a += [[0]*cols]\n",
    "        return a\n",
    "    test_size = int(len(data) * test_ratio)\n",
    "    training_data = make2dList(len(data) - test_size, data[0][\"quantile\"].shape[0] * data[0][\"quantile\"].shape[1])\n",
    "    training_labels = [0]*(len(data)-test_size)\n",
    "    testing_data = make2dList(test_size, data[0][\"quantile\"].shape[0] * data[0][\"quantile\"].shape[1])\n",
    "    testing_labels = [0]*test_size\n",
    "    \n",
    "    test = random.sample(range(0, len(data)), test_size)\n",
    "    \n",
    "    start = -1\n",
    "    for key in range(len(data)):\n",
    "        if (key in test): continue\n",
    "        start += 1\n",
    "        for j in range(data[0][\"quantile\"].shape[0]):\n",
    "            for k in range(data[0][\"quantile\"].shape[1]):\n",
    "                training_data[start][k*data[0][\"quantile\"].shape[0] + j] = data[key][\"quantile\"][j][k]\n",
    "        training_labels[start] = data[key][\"class\"]\n",
    "    \n",
    "    start = -1\n",
    "    for key in test:\n",
    "        start += 1\n",
    "        for j in range(data[0][\"quantile\"].shape[0]):\n",
    "            for k in range(data[0][\"quantile\"].shape[1]):\n",
    "                testing_data[start][k*data[0][\"quantile\"].shape[0] + j] = data[key][\"quantile\"][j][k]\n",
    "        testing_labels[start] = data[key][\"class\"]\n",
    "        \n",
    "    \n",
    "    return training_data, training_labels, testing_data, testing_labels"
   ]
  },
  {
   "cell_type": "code",
   "execution_count": 24,
   "metadata": {
    "collapsed": true
   },
   "outputs": [],
   "source": [
    "from sklearn import svm\n",
    "\n",
    "clf = svm.SVC(C = 1000, kernel='linear')\n",
    "data = pickle.load(open('../data/Quantiles.pickle','rb'))\n",
    "def iteration(model):\n",
    "    training_data, training_labels, testing_data, testing_labels = split_data(data, 0.1)\n",
    "    training_labels_BZ = training_labels == np.array('Blazar')\n",
    "    training_labels_CV = training_labels == np.array('CV')\n",
    "    testing_labels_BZ = testing_labels == np.array('Blazar')\n",
    "    testing_labels_CV = testing_labels == np.array('CV')\n",
    "    print(\"Testing: %d Blazars and %d CV\" % (np.count_nonzero(testing_labels_BZ), np.count_nonzero(testing_labels_CV)))\n",
    "    model.fit(training_data, training_labels)\n",
    "    pred = model.predict(testing_data)\n",
    "    correct = pred == np.array(testing_labels)\n",
    "    overall_acc = np.count_nonzero(correct) / len(testing_labels)\n",
    "    BZ_acc = np.count_nonzero(np.bitwise_and(pred == np.array('Blazar'), correct)) / np.count_nonzero(testing_labels_BZ)\n",
    "    CV_acc = np.count_nonzero(np.bitwise_and(pred == np.array('CV'), correct)) / np.count_nonzero(testing_labels_CV)\n",
    "    return (BZ_acc, CV_acc, overall_acc)\n",
    "\n",
    "\n"
   ]
  },
  {
   "cell_type": "code",
   "execution_count": 25,
   "metadata": {},
   "outputs": [
    {
     "name": "stdout",
     "output_type": "stream",
     "text": [
      "Testing: 24 Blazars and 55 CV\n",
      "0.7916666666666666 0.8363636363636363\n",
      "Testing: 25 Blazars and 54 CV\n",
      "0.72 0.8703703703703703\n",
      "Testing: 24 Blazars and 55 CV\n",
      "0.7083333333333334 0.7636363636363637\n",
      "Testing: 18 Blazars and 61 CV\n",
      "0.7777777777777778 0.8360655737704918\n",
      "Testing: 23 Blazars and 56 CV\n",
      "0.5652173913043478 0.8571428571428571\n",
      "Testing: 26 Blazars and 53 CV\n",
      "0.5769230769230769 0.8113207547169812\n",
      "Testing: 19 Blazars and 60 CV\n",
      "0.7894736842105263 0.7833333333333333\n",
      "Testing: 20 Blazars and 59 CV\n",
      "0.8 0.7966101694915254\n",
      "Testing: 21 Blazars and 58 CV\n",
      "0.6666666666666666 0.7931034482758621\n",
      "Testing: 21 Blazars and 58 CV\n",
      "0.9047619047619048 0.7931034482758621\n"
     ]
    }
   ],
   "source": [
    "from sklearn.ensemble import AdaBoostClassifier\n",
    "ada = AdaBoostClassifier(clf, 100, algorithm = 'SAMME')\n",
    "\n",
    "avg = 0\n",
    "num = 10\n",
    "for i in range(num):\n",
    "    (bz, cv, avg) = iteration(clf)\n",
    "    print(bz, cv)"
   ]
  },
  {
   "cell_type": "code",
   "execution_count": null,
   "metadata": {
    "collapsed": true
   },
   "outputs": [],
   "source": []
  }
 ],
 "metadata": {
  "kernelspec": {
   "display_name": "Python 3",
   "language": "python",
   "name": "python3"
  },
  "language_info": {
   "codemirror_mode": {
    "name": "ipython",
    "version": 3
   },
   "file_extension": ".py",
   "mimetype": "text/x-python",
   "name": "python",
   "nbconvert_exporter": "python",
   "pygments_lexer": "ipython3",
   "version": "3.5.2"
  }
 },
 "nbformat": 4,
 "nbformat_minor": 2
}
