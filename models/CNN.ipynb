{
 "cells": [
  {
   "cell_type": "code",
   "execution_count": 2,
   "metadata": {},
   "outputs": [
    {
     "name": "stderr",
     "output_type": "stream",
     "text": [
      "/home/kevin/.local/lib/python3.5/site-packages/h5py/__init__.py:36: FutureWarning: Conversion of the second argument of issubdtype from `float` to `np.floating` is deprecated. In future, it will be treated as `np.float64 == np.dtype(float).type`.\n",
      "  from ._conv import register_converters as _register_converters\n"
     ]
    }
   ],
   "source": [
    "import pickle; import numpy as np\n",
    "import matplotlib.pyplot as plt\n",
    "%matplotlib inline\n",
    "from scipy import signal \n",
    "import scipy\n",
    "import h5py\n",
    "import tqdm"
   ]
  },
  {
   "cell_type": "code",
   "execution_count": 3,
   "metadata": {},
   "outputs": [],
   "source": [
    "sf = pickle.load(open(\"../data/SF.pickle\", \"rb\"))\n",
    "#0-217 blazar, 218-793 CV\n",
    "DATA_SOURCE = \"../data/images.h5\"\n",
    "NUM_BINS = 100\n",
    "\n",
    "def make_one_picture(idx):\n",
    "    (timediff, magdiff) = (sf[idx]['timediff'], sf[idx]['magdiff'])\n",
    "    # scale the data to be 3000 x 3\n",
    "    def scale_to_square(_diff):\n",
    "        _diff = _diff - np.min(_diff)\n",
    "        _diff = _diff * 3.0 / np.max(_diff)\n",
    "        return _diff\n",
    "    scaled_tdiff = scale_to_square(timediff)\n",
    "    scaled_mdiff = scale_to_square(magdiff)\n",
    "    \n",
    "    H, xedges, yedges = np.histogram2d(scaled_tdiff, scaled_mdiff, bins=NUM_BINS)\n",
    "    b, a = signal.butter(10, 0.05)\n",
    "    H = signal.lfilter(b, a, H)\n",
    "    if sf[idx]['class'] == 'Blazar':\n",
    "        c = 0\n",
    "    else:\n",
    "        c = 1\n",
    "    return np.array(H), c\n",
    "\n",
    "def plot_picture(idx):\n",
    "    H = make_one_picture()\n",
    "    fig = plt.figure(figsize=(30, 30))\n",
    "    plt.imshow(H, interpolation='nearest', origin='low')\n",
    "    plt.colorbar()\n",
    "    plt.savefig('../images/%s-%d.png' % (sf[idx]['class'], idx))\n",
    "    \n",
    "# X = []\n",
    "# y = []\n",
    "# for i in tqdm.tqdm(range(len(sf))):\n",
    "#     _x, _y = make_one_picture(i)\n",
    "#     X.append(_x); y.append(_y)\n",
    "    \n",
    "# X = np.array(X)\n",
    "# y = np.array(y)\n",
    "    \n",
    "# with h5py.File(DATA_SOURCE) as f:\n",
    "#     f[\"X\"] = X\n",
    "#     f['y'] = y"
   ]
  },
  {
   "cell_type": "code",
   "execution_count": 4,
   "metadata": {
    "scrolled": false
   },
   "outputs": [],
   "source": [
    "with h5py.File(DATA_SOURCE) as f:\n",
    "    X = f['X'][:]\n",
    "    y = f['y'][:]\n",
    "    \n",
    "X = np.reshape(X, (-1,NUM_BINS,NUM_BINS,1))"
   ]
  },
  {
   "cell_type": "code",
   "execution_count": 5,
   "metadata": {},
   "outputs": [
    {
     "name": "stderr",
     "output_type": "stream",
     "text": [
      "Using TensorFlow backend.\n"
     ]
    }
   ],
   "source": [
    "from keras import optimizers\n",
    "from sklearn.model_selection import train_test_split\n",
    "\n",
    "X_train, X_test, y_train, y_test = train_test_split(X, y, test_size=0.33, random_state=42)"
   ]
  },
  {
   "cell_type": "code",
   "execution_count": 28,
   "metadata": {},
   "outputs": [],
   "source": [
    "def CNN():\n",
    "    from keras.models import Sequential\n",
    "    from keras.layers import Conv2D, Activation, Dense, BatchNormalization, Dropout\n",
    "    from keras.activations import relu\n",
    "    from keras.layers.core import Flatten\n",
    "    model = Sequential()\n",
    "    model.add(Conv2D(64, kernel_size=(5, 5), strides=(1,1), padding='same', input_shape=(NUM_BINS,NUM_BINS,1)))\n",
    "    model.add(Activation('relu'))\n",
    "#     model.add(BatchNormalization())\n",
    "    model.add(Dropout(0.5))\n",
    "    model.add(Conv2D(64, kernel_size=(5, 5), strides=(1,1), padding='same', input_shape=(NUM_BINS,NUM_BINS,64)))\n",
    "    model.add(Activation('relu')) \n",
    "#     model.add(BatchNormalization())\n",
    "    model.add(Dropout(0.5))\n",
    "    model.add(Conv2D(10, kernel_size=(5, 5), strides=(1,1), padding='same', input_shape=(NUM_BINS,NUM_BINS,64)))\n",
    "    model.add(Activation('relu')) \n",
    "#     model.add(BatchNormalization())\n",
    "    model.add(Dropout(0.5))\n",
    "    model.add(Flatten())\n",
    "    model.add(Dense(1))\n",
    "    model.add(Activation('sigmoid'))\n",
    "    return model"
   ]
  },
  {
   "cell_type": "code",
   "execution_count": 29,
   "metadata": {},
   "outputs": [
    {
     "name": "stdout",
     "output_type": "stream",
     "text": [
      "(531, 100, 100, 1) (794,)\n",
      "Epoch is 0\n",
      "Epoch 1/1\n",
      "531/531 [==============================] - 2s 5ms/step - loss: 0.9529 - acc: 0.6968\n",
      "Epoch is 1\n",
      "Epoch 1/1\n",
      "531/531 [==============================] - 2s 4ms/step - loss: 0.6086 - acc: 0.7288\n",
      "Epoch is 2\n",
      "Epoch 1/1\n",
      "531/531 [==============================] - 2s 4ms/step - loss: 0.5887 - acc: 0.7213\n",
      "Epoch is 3\n",
      "Epoch 1/1\n",
      "531/531 [==============================] - 2s 4ms/step - loss: 0.5763 - acc: 0.7363\n",
      "Epoch is 4\n",
      "Epoch 1/1\n",
      "531/531 [==============================] - 2s 4ms/step - loss: 0.5443 - acc: 0.7458\n",
      "Epoch is 5\n",
      "Epoch 1/1\n",
      "531/531 [==============================] - 2s 4ms/step - loss: 0.5889 - acc: 0.7307\n",
      "Epoch is 6\n",
      "Epoch 1/1\n",
      "531/531 [==============================] - 2s 4ms/step - loss: 0.4926 - acc: 0.8173\n",
      "Epoch is 7\n",
      "Epoch 1/1\n",
      "531/531 [==============================] - 2s 4ms/step - loss: 0.4567 - acc: 0.7891\n",
      "Epoch is 8\n",
      "Epoch 1/1\n",
      "531/531 [==============================] - 2s 4ms/step - loss: 0.4591 - acc: 0.8192\n",
      "Epoch is 9\n",
      "Epoch 1/1\n",
      "531/531 [==============================] - 2s 4ms/step - loss: 0.4372 - acc: 0.8041\n",
      "Epoch is 10\n",
      "Epoch 1/1\n",
      "531/531 [==============================] - 2s 4ms/step - loss: 0.4022 - acc: 0.8305\n",
      "Epoch is 11\n",
      "Epoch 1/1\n",
      "531/531 [==============================] - 2s 4ms/step - loss: 0.4061 - acc: 0.8249\n",
      "Epoch is 12\n",
      "Epoch 1/1\n",
      "531/531 [==============================] - 2s 4ms/step - loss: 0.3862 - acc: 0.8230\n",
      "Epoch is 13\n",
      "Epoch 1/1\n",
      "531/531 [==============================] - 2s 4ms/step - loss: 0.3915 - acc: 0.8456\n",
      "Epoch is 14\n",
      "Epoch 1/1\n",
      "531/531 [==============================] - 2s 4ms/step - loss: 0.3852 - acc: 0.8324\n",
      "Epoch is 15\n",
      "Epoch 1/1\n",
      "531/531 [==============================] - 2s 4ms/step - loss: 0.3866 - acc: 0.8399\n",
      "Epoch is 16\n",
      "Epoch 1/1\n",
      "531/531 [==============================] - 2s 4ms/step - loss: 0.4344 - acc: 0.8324\n",
      "Epoch is 17\n",
      "Epoch 1/1\n",
      "531/531 [==============================] - 2s 4ms/step - loss: 0.4813 - acc: 0.7740\n",
      "Epoch is 18\n",
      "Epoch 1/1\n",
      "531/531 [==============================] - 2s 4ms/step - loss: 0.3954 - acc: 0.8475\n",
      "Epoch is 19\n",
      "Epoch 1/1\n",
      "531/531 [==============================] - 2s 4ms/step - loss: 0.3726 - acc: 0.8437\n",
      "Epoch is 20\n",
      "Epoch 1/1\n",
      "531/531 [==============================] - 2s 4ms/step - loss: 0.3831 - acc: 0.8286\n",
      "Epoch is 21\n",
      "Epoch 1/1\n",
      "531/531 [==============================] - 2s 4ms/step - loss: 0.3584 - acc: 0.8531\n",
      "Epoch is 22\n",
      "Epoch 1/1\n",
      "531/531 [==============================] - 2s 4ms/step - loss: 0.3462 - acc: 0.8644\n",
      "Epoch is 23\n",
      "Epoch 1/1\n",
      "531/531 [==============================] - 2s 4ms/step - loss: 0.3310 - acc: 0.8588\n",
      "Epoch is 24\n",
      "Epoch 1/1\n",
      "531/531 [==============================] - 2s 4ms/step - loss: 0.3524 - acc: 0.8512\n",
      "Epoch is 25\n",
      "Epoch 1/1\n",
      "531/531 [==============================] - 2s 4ms/step - loss: 0.3963 - acc: 0.8286\n",
      "Epoch is 26\n",
      "Epoch 1/1\n",
      "531/531 [==============================] - 2s 4ms/step - loss: 0.3510 - acc: 0.8550\n",
      "Epoch is 27\n",
      "Epoch 1/1\n",
      "531/531 [==============================] - 2s 4ms/step - loss: 0.3141 - acc: 0.8701\n",
      "Epoch is 28\n",
      "Epoch 1/1\n",
      "531/531 [==============================] - 2s 4ms/step - loss: 0.2718 - acc: 0.8964\n",
      "Epoch is 29\n",
      "Epoch 1/1\n",
      "531/531 [==============================] - 2s 4ms/step - loss: 0.3029 - acc: 0.8550\n",
      "0.7756653992395437\n"
     ]
    }
   ],
   "source": [
    "print(X_train.shape, y.shape)\n",
    "num_epochs = 30\n",
    "cnn = CNN()\n",
    "adam = optimizers.Adam(lr=0.001, beta_1=0.9, beta_2=0.999, epsilon=None, decay=0.001)\n",
    "cnn.compile(loss='binary_crossentropy', optimizer=adam, metrics=['accuracy'])\n",
    "for epoch in range(num_epochs):\n",
    "    print(\"Epoch is\", epoch)\n",
    "    cnn.fit(X_train, y_train)\n",
    "\n",
    "pred = np.reshape(cnn.predict(X_test), len(pred))\n",
    "acc = float(np.count_nonzero(np.equal(np.round(pred), y_test))) / len(pred)\n",
    "print(acc)"
   ]
  },
  {
   "cell_type": "code",
   "execution_count": null,
   "metadata": {
    "collapsed": true
   },
   "outputs": [],
   "source": []
  }
 ],
 "metadata": {
  "kernelspec": {
   "display_name": "Python 3",
   "language": "python",
   "name": "python3"
  },
  "language_info": {
   "codemirror_mode": {
    "name": "ipython",
    "version": 3
   },
   "file_extension": ".py",
   "mimetype": "text/x-python",
   "name": "python",
   "nbconvert_exporter": "python",
   "pygments_lexer": "ipython3",
   "version": "3.6.1"
  }
 },
 "nbformat": 4,
 "nbformat_minor": 2
}
