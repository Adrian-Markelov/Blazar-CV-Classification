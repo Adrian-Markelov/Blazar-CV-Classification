{
 "cells": [
  {
   "cell_type": "code",
   "execution_count": 30,
   "metadata": {
    "collapsed": true
   },
   "outputs": [],
   "source": [
    "import pandas as pd\n",
    "import numpy as np\n",
    "import matplotlib.pyplot as plt\n",
    "import math\n",
    "import tensorflow as tf\n",
    "import sys\n",
    "import statsmodels.api as sm\n",
    "import statsmodels.formula.api as smf\n",
    "import pickle\n",
    "from statsmodels.regression.quantile_regression import QuantReg\n"
   ]
  },
  {
   "cell_type": "code",
   "execution_count": 31,
   "metadata": {
    "collapsed": true
   },
   "outputs": [],
   "source": [
    "data = pickle.load(open(\"SF.pickle\", \"rb\"))\n"
   ]
  },
  {
   "cell_type": "code",
   "execution_count": 32,
   "metadata": {},
   "outputs": [
    {
     "name": "stdout",
     "output_type": "stream",
     "text": [
      "                         QuantReg Regression Results                          \n",
      "==============================================================================\n",
      "Dep. Variable:                magdiff   Pseudo R-squared:            0.0005581\n",
      "Model:                       QuantReg   Bandwidth:                      0.1967\n",
      "Method:                 Least Squares   Sparsity:                       0.9604\n",
      "Date:                Sat, 31 Mar 2018   No. Observations:                 1030\n",
      "Time:                        15:06:09   Df Residuals:                     1028\n",
      "                                        Df Model:                            1\n",
      "==============================================================================\n",
      "                 coef    std err          t      P>|t|      [0.025      0.975]\n",
      "------------------------------------------------------------------------------\n",
      "Intercept     -0.2368      0.025     -9.335      0.000      -0.287      -0.187\n",
      "timediff   -2.099e-05   2.02e-05     -1.038      0.299   -6.07e-05    1.87e-05\n",
      "==============================================================================\n",
      "\n",
      "The condition number is large, 2.13e+03. This might indicate that there are\n",
      "strong multicollinearity or other numerical problems.\n"
     ]
    }
   ],
   "source": [
    "dataset = 5\n",
    "timediff = data[dataset][\"timediff\"]\n",
    "magdiff = data[dataset][\"magdiff\"]\n",
    "d = {'timediff': timediff, 'magdiff': magdiff}\n",
    "data = pd.DataFrame(data=d)\n",
    "\n",
    "mod = smf.quantreg('magdiff ~ timediff', data)\n",
    "res = mod.fit(q=.5)\n",
    "print(res.summary())"
   ]
  },
  {
   "cell_type": "code",
   "execution_count": 33,
   "metadata": {},
   "outputs": [
    {
     "name": "stdout",
     "output_type": "stream",
     "text": [
      "      q         a             b        lb        ub\n",
      "0  0.05 -1.172001 -4.511175e-05 -0.000170  0.000080\n",
      "1  0.15 -0.764697 -1.425769e-05 -0.000084  0.000056\n",
      "2  0.25 -0.512570 -6.486851e-05 -0.000128 -0.000001\n",
      "3  0.35 -0.388478 -2.614410e-05 -0.000076  0.000024\n",
      "4  0.45 -0.298631 -5.742211e-06 -0.000048  0.000036\n",
      "5  0.55 -0.192545 -2.095028e-05 -0.000059  0.000017\n",
      "6  0.65 -0.093045 -2.765320e-05 -0.000062  0.000007\n",
      "7  0.75 -0.022359 -1.996104e-05 -0.000051  0.000011\n",
      "8  0.85  0.064290 -1.902671e-05 -0.000049  0.000011\n",
      "9  0.95  0.155336  1.110984e-10 -0.000027  0.000027\n",
      "{'lb': -5.7488000410122825e-05, 'a': -0.33303641503593107, 'b': -2.2161920022080651e-05, 'ub': 1.3164160365961519e-05}\n"
     ]
    }
   ],
   "source": [
    "quantiles = np.arange(.05, .96, .1)\n",
    "def fit_model(q):\n",
    "    res = mod.fit(q=q)\n",
    "    return [q, res.params['Intercept'], res.params['timediff']] + \\\n",
    "            res.conf_int().ix['timediff'].tolist()\n",
    "    \n",
    "models = [fit_model(x) for x in quantiles]\n",
    "models = pd.DataFrame(models, columns=['q', 'a', 'b','lb','ub'])\n",
    "\n",
    "ols = smf.ols('magdiff ~ timediff', data).fit()\n",
    "ols_ci = ols.conf_int().ix['timediff'].tolist()\n",
    "ols = dict(a = ols.params['Intercept'],\n",
    "           b = ols.params['timediff'],\n",
    "           lb = ols_ci[0],\n",
    "           ub = ols_ci[1])\n",
    "\n",
    "print(models)\n",
    "print(ols)\n"
   ]
  },
  {
   "cell_type": "code",
   "execution_count": 34,
   "metadata": {},
   "outputs": [],
   "source": [
    "x = np.arange(timediff.min(), timediff.max(), (timediff.max() - timediff.min())/50)\n",
    "get_y = lambda a, b: a + b * x\n",
    "\n",
    "fig, ax = plt.subplots(figsize=(8, 6))\n",
    "\n",
    "for i in range(models.shape[0]):\n",
    "    y = get_y(models.a[i], models.b[i])\n",
    "    ax.plot(x, y, linestyle='dotted', color='grey')\n",
    "    \n",
    "y = get_y(ols['a'], ols['b'])\n",
    "\n",
    "ax.plot(x, y, color='red', label='OLS')\n",
    "ax.scatter(timediff, magdiff, alpha=.2)\n",
    "# ax.set_xlim((240, 3000))\n",
    "# ax.set_ylim((240, 2000))\n",
    "legend = ax.legend()\n",
    "ax.set_xlabel('time', fontsize=16)\n",
    "ax.set_ylabel('mag', fontsize=16);"
   ]
  },
  {
   "cell_type": "code",
   "execution_count": null,
   "metadata": {},
   "outputs": [],
   "source": [
    "plt.show()"
   ]
  },
  {
   "cell_type": "code",
   "execution_count": null,
   "metadata": {
    "collapsed": true
   },
   "outputs": [],
   "source": []
  }
 ],
 "metadata": {
  "kernelspec": {
   "display_name": "Python 3",
   "language": "python",
   "name": "python3"
  },
  "language_info": {
   "codemirror_mode": {
    "name": "ipython",
    "version": 3
   },
   "file_extension": ".py",
   "mimetype": "text/x-python",
   "name": "python",
   "nbconvert_exporter": "python",
   "pygments_lexer": "ipython3",
   "version": "3.5.2"
  }
 },
 "nbformat": 4,
 "nbformat_minor": 2
}
