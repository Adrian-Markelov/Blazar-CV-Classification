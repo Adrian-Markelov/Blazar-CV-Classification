{
 "cells": [
  {
   "cell_type": "code",
   "execution_count": 197,
   "metadata": {
    "collapsed": true
   },
   "outputs": [],
   "source": [
    "import pandas as pd\n",
    "import numpy as np\n",
    "import matplotlib.pyplot as plt\n",
    "%matplotlib inline\n",
    "import math\n",
    "import tensorflow as tf\n",
    "import sys\n",
    "import pickle\n",
    "import random"
   ]
  },
  {
   "cell_type": "code",
   "execution_count": 198,
   "metadata": {
    "collapsed": true
   },
   "outputs": [],
   "source": [
    "def make2dList(rows, cols):\n",
    "    a=[]\n",
    "    for row in range(rows): a += [[0]*cols]\n",
    "    return a"
   ]
  },
  {
   "cell_type": "code",
   "execution_count": 199,
   "metadata": {
    "collapsed": true
   },
   "outputs": [],
   "source": [
    "i = pickle.load(open(\"Quantiles.pickle\", \"rb\"))\n",
    "\n",
    "testing_size = 50\n",
    "\n",
    "test = random.sample(range(0, 793), testing_size)\n",
    "    \n",
    "data = make2dList(len(i),20)\n",
    "labels = [0]*len(i)\n",
    "\n",
    "for key in range(len(i)):\n",
    "    for j in range(10):\n",
    "        for k in range(2):\n",
    "            data[key][k*10 + j] = i[key][\"quantile\"][j][k]\n",
    "\n",
    "    labels[key] = i[key][\"class\"]\n",
    "\n",
    "\n",
    "training_data = make2dList(len(i)-testing_size, 20)\n",
    "training_labels = [0]*(len(i)-testing_size)\n",
    "\n",
    "start = -1\n",
    "\n",
    "for key in range(len(i)):\n",
    "    if (key in test): continue\n",
    "    start += 1\n",
    "    for j in range(10):\n",
    "        for k in range(2):\n",
    "            training_data[start][k*10 + j] = i[key][\"quantile\"][j][k]\n",
    "    training_labels[start] = i[key][\"class\"]"
   ]
  },
  {
   "cell_type": "code",
   "execution_count": 200,
   "metadata": {
    "collapsed": true
   },
   "outputs": [],
   "source": [
    "from sklearn.ensemble import RandomForestClassifier\n",
    "from sklearn.datasets import make_classification"
   ]
  },
  {
   "cell_type": "code",
   "execution_count": 201,
   "metadata": {
    "collapsed": true
   },
   "outputs": [],
   "source": [
    "clf = RandomForestClassifier(max_depth=2, random_state=0)\n"
   ]
  },
  {
   "cell_type": "code",
   "execution_count": 202,
   "metadata": {},
   "outputs": [
    {
     "data": {
      "text/plain": [
       "RandomForestClassifier(bootstrap=True, class_weight=None, criterion='gini',\n",
       "            max_depth=2, max_features='auto', max_leaf_nodes=None,\n",
       "            min_impurity_decrease=0.0, min_impurity_split=None,\n",
       "            min_samples_leaf=1, min_samples_split=2,\n",
       "            min_weight_fraction_leaf=0.0, n_estimators=10, n_jobs=1,\n",
       "            oob_score=False, random_state=0, verbose=0, warm_start=False)"
      ]
     },
     "execution_count": 202,
     "metadata": {},
     "output_type": "execute_result"
    }
   ],
   "source": [
    "clf.fit(training_data, training_labels)\n"
   ]
  },
  {
   "cell_type": "code",
   "execution_count": null,
   "metadata": {
    "collapsed": true
   },
   "outputs": [],
   "source": []
  },
  {
   "cell_type": "code",
   "execution_count": 203,
   "metadata": {},
   "outputs": [
    {
     "name": "stdout",
     "output_type": "stream",
     "text": [
      "CV CV\n",
      "Blazar Blazar\n",
      "CV CV\n",
      "Blazar Blazar\n",
      "CV CV\n",
      "CV Blazar\n",
      "CV Blazar\n",
      "CV CV\n",
      "CV CV\n",
      "CV CV\n",
      "CV Blazar\n",
      "CV CV\n",
      "CV CV\n",
      "CV Blazar\n",
      "CV CV\n",
      "CV Blazar\n",
      "Blazar Blazar\n",
      "CV Blazar\n",
      "CV CV\n",
      "CV Blazar\n",
      "CV CV\n",
      "CV Blazar\n",
      "CV CV\n",
      "CV CV\n",
      "CV CV\n",
      "CV Blazar\n",
      "CV CV\n",
      "CV CV\n",
      "CV CV\n",
      "CV CV\n",
      "CV Blazar\n",
      "CV CV\n",
      "CV CV\n",
      "CV CV\n",
      "Blazar Blazar\n",
      "CV CV\n",
      "CV CV\n",
      "CV CV\n",
      "CV Blazar\n",
      "CV CV\n",
      "CV CV\n",
      "CV CV\n",
      "CV CV\n",
      "CV CV\n",
      "CV CV\n",
      "CV CV\n",
      "CV Blazar\n",
      "CV CV\n",
      "CV CV\n",
      "CV CV\n",
      "0.76\n"
     ]
    }
   ],
   "source": [
    "total_correct = 0\n",
    "for key in test:\n",
    "    if (clf.predict([data[key]]) == [labels[key]]):\n",
    "        total_correct += 1\n",
    "    print(clf.predict([data[key]])[0] + \" \" + labels[key])\n",
    "print(total_correct/testing_size)\n",
    "    "
   ]
  },
  {
   "cell_type": "code",
   "execution_count": null,
   "metadata": {
    "collapsed": true
   },
   "outputs": [],
   "source": []
  }
 ],
 "metadata": {
  "kernelspec": {
   "display_name": "Python 3",
   "language": "python",
   "name": "python3"
  },
  "language_info": {
   "codemirror_mode": {
    "name": "ipython",
    "version": 3
   },
   "file_extension": ".py",
   "mimetype": "text/x-python",
   "name": "python",
   "nbconvert_exporter": "python",
   "pygments_lexer": "ipython3",
   "version": "3.6.3"
  }
 },
 "nbformat": 4,
 "nbformat_minor": 2
}
