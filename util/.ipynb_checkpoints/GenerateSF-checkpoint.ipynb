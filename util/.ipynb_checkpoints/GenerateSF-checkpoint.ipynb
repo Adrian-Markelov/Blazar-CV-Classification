{
 "cells": [
  {
   "cell_type": "code",
   "execution_count": 1,
   "metadata": {
    "collapsed": false
   },
   "outputs": [],
   "source": [
    "from extract_data import *\n",
    "import pandas as pd\n",
    "import numpy as np"
   ]
  },
  {
   "cell_type": "code",
   "execution_count": 17,
   "metadata": {
    "collapsed": true
   },
   "outputs": [],
   "source": [
    "upperTimeThreshold = 900\n",
    "lowerTimeThreshold = 700"
   ]
  },
  {
   "cell_type": "code",
   "execution_count": 2,
   "metadata": {
    "collapsed": false
   },
   "outputs": [
    {
     "name": "stdout",
     "output_type": "stream",
     "text": [
      "We have 234 Blazar points\n",
      "We have 704 CV points\n"
     ]
    }
   ],
   "source": [
    "data = get_all_data('/home/kevin/Documents/10-701-Project/data/Blazar_LC.csv', '/home/kevin/Documents/10-701-Project/data/CV_LC.csv')"
   ]
  },
  {
   "cell_type": "code",
   "execution_count": 41,
   "metadata": {
    "collapsed": false
   },
   "outputs": [
    {
     "data": {
      "image/png": "[encoded data removed]",
      "text/plain": [
       "<Figure size 600x400 with 1 Axes>"
      ]
     },
     "metadata": {},
     "output_type": "display_data"
    }
   ],
   "source": [
    "lengths = []\n",
    "num_points = []\n",
    "for i in data:\n",
    "    max_time = data[i]['MJD'].max()\n",
    "    min_time = data[i]['MJD'].min()\n",
    "    lengths.append(max_time - min_time)\n",
    "    num_points.append(len(data[i]['MJD']))\n",
    "\n",
    "import matplotlib.pyplot as plt\n",
    "%matplotlib inline\n",
    "plt.hist(lengths, bins='auto')  # arguments are passed to np.histogram\n",
    "plt.title(\"Histogram of lengths\")\n",
    "plt.show()\n",
    "del lengths"
   ]
  },
  {
   "cell_type": "code",
   "execution_count": 42,
   "metadata": {
    "collapsed": false
   },
   "outputs": [
    {
     "data": {
      "image/png": "[encoded data removed]",
      "text/plain": [
       "<Figure size 600x400 with 1 Axes>"
      ]
     },
     "metadata": {},
     "output_type": "display_data"
    }
   ],
   "source": [
    "plt.hist(num_points, bins='auto')  # arguments are passed to np.histogram\n",
    "plt.title(\"Histogram of num_points\")\n",
    "plt.show()\n",
    "\n",
    "pointsThreshold = np.percentile(num_points, 10) # 28"
   ]
  },
  {
   "cell_type": "code",
   "execution_count": 57,
   "metadata": {
    "collapsed": false
   },
   "outputs": [],
   "source": [
    "def cut_up_one_light_curve(times, mags):\n",
    "    if ((times.max() - times.min()) < timeThreshold):\n",
    "        return []\n",
    "    threshold = times.min() + timeThreshold\n",
    "    idx = times <= threshold\n",
    "    good_times = times[idx]\n",
    "    good_mags = mags[idx]\n",
    "    next_idx = times > threshold\n",
    "    return [(good_times, good_mags)] + cut_up_one_light_curve(times[next_idx], mags[next_idx])\n",
    "\n",
    "SFs = dict()\n",
    "counter = 0\n",
    "lengths = []\n",
    "num_points = []\n",
    "for i in data:\n",
    "    label = data[i]['class']\n",
    "    for (t, m) in cut_up_one_light_curve(data[i]['MJD'], data[i]['Mag']):\n",
    "        SFs[counter] = dict()\n",
    "        (td, md) = BuildSF(t,m)\n",
    "        SFs[counter]['timediff'] = td\n",
    "        SFs[counter]['magdiff'] = md\n",
    "        SFs[counter]['class'] = label\n",
    "        if (len(td) <= pointsThreshold * pointsThreshold * 0.5):\n",
    "            continue\n",
    "        lengths.append(td.max() - td.min())\n",
    "        num_points.append(len(td))\n",
    "        counter += 1\n",
    "    "
   ]
  },
  {
   "cell_type": "code",
   "execution_count": 58,
   "metadata": {
    "collapsed": false
   },
   "outputs": [],
   "source": [
    "with open('SF.pickle','wb') as F:\n",
    "    pickle.dump(SFs, F)"
   ]
  },
  {
   "cell_type": "code",
   "execution_count": 62,
   "metadata": {
    "collapsed": false
   },
   "outputs": [
    {
     "data": {
      "image/png": "[encoded data removed]",
      "text/plain": [
       "<Figure size 600x400 with 1 Axes>"
      ]
     },
     "metadata": {},
     "output_type": "display_data"
    },
    {
     "data": {
      "text/plain": [
       "713.0561375000034"
      ]
     },
     "execution_count": 62,
     "metadata": {},
     "output_type": "execute_result"
    }
   ],
   "source": [
    "plt.hist(lengths, bins='auto')  # arguments are passed to np.histogram\n",
    "plt.title(\"Histogram of lengths\")\n",
    "plt.show()\n",
    "# np.percentile(lengths, 5)"
   ]
  },
  {
   "cell_type": "code",
   "execution_count": 60,
   "metadata": {
    "collapsed": false
   },
   "outputs": [
    {
     "data": {
      "image/png": "[encoded data removed]",
      "text/plain": [
       "<Figure size 600x400 with 1 Axes>"
      ]
     },
     "metadata": {},
     "output_type": "display_data"
    },
    {
     "data": {
      "text/plain": [
       "456"
      ]
     },
     "execution_count": 60,
     "metadata": {},
     "output_type": "execute_result"
    }
   ],
   "source": [
    "plt.hist(num_points, bins='auto')  # arguments are passed to np.histogram\n",
    "plt.title(\"Histogram of num_points\")\n",
    "plt.show()\n",
    "np.array(num_points).min()"
   ]
  },
  {
   "cell_type": "code",
   "execution_count": null,
   "metadata": {
    "collapsed": true
   },
   "outputs": [],
   "source": []
  }
 ],
 "metadata": {
  "kernelspec": {
   "display_name": "Python 3",
   "language": "python",
   "name": "python3"
  },
  "language_info": {
   "codemirror_mode": {
    "name": "ipython",
    "version": 3
   },
   "file_extension": ".py",
   "mimetype": "text/x-python",
   "name": "python",
   "nbconvert_exporter": "python",
   "pygments_lexer": "ipython3",
   "version": "3.5.2"
  }
 },
 "nbformat": 4,
 "nbformat_minor": 2
}
